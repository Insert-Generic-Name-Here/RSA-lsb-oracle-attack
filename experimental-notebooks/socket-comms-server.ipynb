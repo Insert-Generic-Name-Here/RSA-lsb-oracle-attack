{
 "cells": [
  {
   "cell_type": "code",
   "execution_count": 1,
   "metadata": {},
   "outputs": [],
   "source": [
    "import socket\n",
    "import threading\n",
    "import sys"
   ]
  },
  {
   "cell_type": "code",
   "execution_count": 2,
   "metadata": {},
   "outputs": [],
   "source": [
    "import lib.Cryptlib as Cryptlib"
   ]
  },
  {
   "cell_type": "code",
   "execution_count": 3,
   "metadata": {},
   "outputs": [],
   "source": [
    "import lib.ServerComn as ServComn"
   ]
  },
  {
   "cell_type": "markdown",
   "metadata": {},
   "source": [
    "# Server Side"
   ]
  },
  {
   "cell_type": "code",
   "execution_count": null,
   "metadata": {},
   "outputs": [
    {
     "name": "stdout",
     "output_type": "stream",
     "text": [
      "[ACK] Socket created\n",
      "[ACK] Socket bind complete\n",
      "[ACK] Computed Random Prime p.\n",
      "[ACK] Computed Random Prime q.\n",
      "[ACK] RSA-256 Initiated Successfully.\n",
      "[ACK] Socket now listening\n"
     ]
    }
   ],
   "source": [
    "#---------------------------------------------------------------------------------\n",
    "#---------------------------SOCKET CREATION; SOCKET BIND--------------------------\n",
    "#---------------------------------------------------------------------------------    \n",
    "HOST = \"localhost\"   # Symbolic name meaning all available interfaces\n",
    "PORT = 5000 # Arbitrary non-privileged port  \n",
    "    \n",
    "sct = socket.socket(socket.AF_INET, socket.SOCK_STREAM)\n",
    "sct.setsockopt(socket.SOL_SOCKET, socket.SO_REUSEADDR, 1)\n",
    "print ('[ACK] Socket created')\n",
    "    \n",
    "try:\n",
    "    sct.bind((HOST, PORT))\n",
    "except socket.gaierror as err:\n",
    "    print ('[ERR] Socket:', err)\n",
    "    sys.exit()\n",
    "print ('[ACK] Socket bind complete')\n",
    " \n",
    "rsa = Cryptlib.RSA(256)\n",
    "    \n",
    "sct.listen(10)\n",
    "print ('[ACK] Socket now listening')\n",
    "#---------------------------------------------------------------------------------"
   ]
  },
  {
   "cell_type": "code",
   "execution_count": null,
   "metadata": {},
   "outputs": [
    {
     "name": "stdout",
     "output_type": "stream",
     "text": [
      "Connected with 127.0.0.1:36675\n",
      "Cipher Text:  4752478812170013945289808586518807953436655575522968445289257745734211538985133547391230427975997385893108992762476379542642091648783923779526193230761077\n",
      "Plain Text:  93279\n",
      "Connected with 127.0.0.1:36683\n",
      "Cipher Text:  4752478812170013945289808586518807953436655575522968445289257745734211538985133547391230427975997385893108992762476379542642091648783923779526193230761077\n",
      "Plain Text:  93279\n"
     ]
    }
   ],
   "source": [
    "#---------------------------------------------------------------------------------\n",
    "#------------------------LISTENING TO INCOMING CONNECTIONS------------------------\n",
    "#--------------------------------------------------------------------------------- \n",
    "while 1:\n",
    "    try:\n",
    "        #wait to accept a connection - blocking call\n",
    "        conn, addr = sct.accept()\n",
    "        print ('Connected with ' + addr[0] + ':' + str(addr[1]))\n",
    "        threading.Thread(target=ServComn.ClienThread, args=(conn, rsa),)\\\n",
    "        .start()\n",
    "    except KeyboardInterrupt:\n",
    "        print ('\\nServer Forced Shutdown...')\n",
    "        break\n",
    "sct.close()\n",
    "#--------------------------------------------------------------------------------- "
   ]
  }
 ],
 "metadata": {
  "kernelspec": {
   "display_name": "Python [default]",
   "language": "python",
   "name": "python3"
  },
  "language_info": {
   "codemirror_mode": {
    "name": "ipython",
    "version": 3
   },
   "file_extension": ".py",
   "mimetype": "text/x-python",
   "name": "python",
   "nbconvert_exporter": "python",
   "pygments_lexer": "ipython3",
   "version": "3.5.4"
  }
 },
 "nbformat": 4,
 "nbformat_minor": 2
}
