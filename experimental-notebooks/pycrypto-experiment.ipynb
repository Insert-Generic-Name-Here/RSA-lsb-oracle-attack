{
 "cells": [
  {
   "cell_type": "code",
   "execution_count": 1,
   "metadata": {
    "collapsed": true
   },
   "outputs": [],
   "source": [
    "from Crypto.Cipher import PKCS1_v1_5\n",
    "from Crypto.PublicKey import RSA\n",
    "from Crypto.Util.number import bytes_to_long"
   ]
  },
  {
   "cell_type": "code",
   "execution_count": 16,
   "metadata": {
    "collapsed": true
   },
   "outputs": [],
   "source": [
    "import random"
   ]
  },
  {
   "cell_type": "code",
   "execution_count": 13,
   "metadata": {},
   "outputs": [],
   "source": [
    "key = RSA.generate(1024, e=65537)\n",
    "cipher = PKCS1_v1_5.new(key)"
   ]
  },
  {
   "cell_type": "code",
   "execution_count": 161,
   "metadata": {
    "collapsed": true
   },
   "outputs": [],
   "source": [
    "def int_to_bytes(x):\n",
    "    return x.to_bytes((x.bit_length() + 7) // 8, 'big')\n",
    "\n",
    "def int_from_bytes(xbytes):\n",
    "    return int.from_bytes(xbytes, 'big')"
   ]
  },
  {
   "cell_type": "code",
   "execution_count": 180,
   "metadata": {},
   "outputs": [],
   "source": [
    "flag = random.randrange(1024)\n",
    "# print (flag)\n",
    "flag = (flag).to_bytes((flag.bit_length() + 7)//8, byteorder='little')\n",
    "# print (flag)\n",
    "# print (type(flag))"
   ]
  },
  {
   "cell_type": "code",
   "execution_count": 181,
   "metadata": {},
   "outputs": [],
   "source": [
    "# int.from_bytes(flag, byteorder='big')"
   ]
  },
  {
   "cell_type": "code",
   "execution_count": 182,
   "metadata": {},
   "outputs": [
    {
     "name": "stdout",
     "output_type": "stream",
     "text": [
      "112044982893254697574368287467681132276419556426279430435474700675920182102256224003540909420084509764027369459345091123131551226797925243041548155205476543278985059073058509415541680368424986306486296883266158713216536607360828756650647729275260137418230492909826598284586794618151757456830893810875531244384\n"
     ]
    }
   ],
   "source": [
    "ctxt = bytes_to_long(cipher.encrypt(flag))\n",
    "print (ctxt)"
   ]
  },
  {
   "cell_type": "code",
   "execution_count": 183,
   "metadata": {},
   "outputs": [
    {
     "ename": "TypeError",
     "evalue": "decrypt() missing 1 required positional argument: 'sentinel'",
     "output_type": "error",
     "traceback": [
      "\u001b[1;31m---------------------------------------------------------------------------\u001b[0m",
      "\u001b[1;31mTypeError\u001b[0m                                 Traceback (most recent call last)",
      "\u001b[1;32m<ipython-input-183-1c52b5379cf2>\u001b[0m in \u001b[0;36m<module>\u001b[1;34m()\u001b[0m\n\u001b[1;32m----> 1\u001b[1;33m \u001b[0mcipher\u001b[0m\u001b[1;33m.\u001b[0m\u001b[0mdecrypt\u001b[0m\u001b[1;33m(\u001b[0m\u001b[0mctxt\u001b[0m\u001b[1;33m)\u001b[0m\u001b[1;33m\u001b[0m\u001b[0m\n\u001b[0m",
      "\u001b[1;31mTypeError\u001b[0m: decrypt() missing 1 required positional argument: 'sentinel'"
     ]
    }
   ],
   "source": [
    "cipher.decrypt(ctxt, )"
   ]
  }
 ],
 "metadata": {
  "kernelspec": {
   "display_name": "Python [default]",
   "language": "python",
   "name": "python3"
  },
  "language_info": {
   "codemirror_mode": {
    "name": "ipython",
    "version": 3
   },
   "file_extension": ".py",
   "mimetype": "text/x-python",
   "name": "python",
   "nbconvert_exporter": "python",
   "pygments_lexer": "ipython3",
   "version": "3.5.4"
  }
 },
 "nbformat": 4,
 "nbformat_minor": 2
}
