{
 "cells": [
  {
   "cell_type": "code",
   "execution_count": 1,
   "metadata": {
    "collapsed": true
   },
   "outputs": [],
   "source": [
    "import lib.PrimeGen as pg"
   ]
  },
  {
   "cell_type": "code",
   "execution_count": 2,
   "metadata": {
    "collapsed": true
   },
   "outputs": [],
   "source": [
    "import math\n",
    "import gmpy2\n",
    "import random"
   ]
  },
  {
   "cell_type": "code",
   "execution_count": 3,
   "metadata": {
    "collapsed": true
   },
   "outputs": [],
   "source": [
    "class RSA:\n",
    "    def __init__(self, bits):\n",
    "        pgen = pg.PrimeGen()\n",
    "        p = pgen.Generate(bits) # Generate a *safe prime* with __bits__ BITS.\n",
    "        print ('Computed Random Prime p.')\n",
    "        q = pgen.Generate(bits) # Generate a *safe prime* with __bits__ BITS.\n",
    "        print ('Computed Random Prime q.')\n",
    "        phi = (p-1)*(q-1)       # euler's phi function for n\n",
    "        \n",
    "        self.n = p * q\n",
    "        self.e = 2**16 + 1\n",
    "        self.__d = gmpy2.invert(self.e, phi)\n",
    "        print ('RSA-%d Initiated Successfully.' %(bits))\n",
    "    \n",
    "    def __padhexa(self, s, l):\n",
    "        return '0x' + s[2:].zfill(l)\n",
    "        \n",
    "    def __GenerateByteSequence(self, byte_length):\n",
    "        hex_arr = list(map(str,\\\n",
    "                       list(range(1, 10)) + ['A', 'B', 'C', 'D', 'E', 'F']))\n",
    "        secure_random = random.SystemRandom()\n",
    "        tmp = byte_length * 8\n",
    "        res = ''\n",
    "        while (tmp is not 0):\n",
    "            word = secure_random.choice(hex_arr)\n",
    "            size = 4\n",
    "            if (size <= tmp):\n",
    "                tmp -= size\n",
    "                res += word\n",
    "        return res\n",
    "        \n",
    "    def __PadMessage(self, plainText, n):\n",
    "        EB = math.ceil(n.bit_length()/8) # byte-size of Encryption Block (EB)\n",
    "        DB = math.ceil(plainText.bit_length()/8)       # byte-size of Data Block (DB)\n",
    "        PS = EB - 3 - DB                        # byte-size of Padding String (PS)\n",
    "        if not(DB <= EB - 11):\n",
    "            raise ValueError('Message > Encryption Block - 11.')\n",
    "        else:\n",
    "            PaddingString = self.__GenerateByteSequence(PS)\n",
    "        paddedText = '0x0002'+PaddingString+'00'+hex(plainText)[2:]\n",
    "        return paddedText\n",
    "        \n",
    "    def __PublicKey(self):\n",
    "        return self.e, self.n\n",
    "    \n",
    "    def __PrivateKey(self):\n",
    "        return self.__d, self.n\n",
    "    \n",
    "    def Encrypt(self, plainText, padding=False):\n",
    "        [e, n] = self.__PublicKey()\n",
    "        if padding:\n",
    "            plainTextPadded = self.__PadMessage(plainText, n)\n",
    "            tmp = pow(int(plainTextPadded,16), e, n)\n",
    "        else:\n",
    "            tmp = pow(plainText, e, n)\n",
    "        return tmp\n",
    "    \n",
    "    def Decrypt(self, cipherText, padding=False):\n",
    "        [d, n] = self.__PrivateKey()\n",
    "        \n",
    "        decipherText = pow(cipherText, d, n)\n",
    "        \n",
    "        if padding:\n",
    "            byte_difference = abs(len(hex(rsa256.n)) - len(hex(decipherText)))\n",
    "            if (byte_difference >= 3):\n",
    "                bytelen = len(hex(decipherText)[2:])\n",
    "                decipherText = self.__padhexa(hex(decipherText), bytelen + 3)\n",
    "            \n",
    "            if (decipherText[2:6] == '0002'):\n",
    "                decipherText = int(decipherText.split('00')[-1], 16)\n",
    "            else:\n",
    "                decipherText = ''\n",
    "            \n",
    "        return decipherText"
   ]
  },
  {
   "cell_type": "code",
   "execution_count": 4,
   "metadata": {},
   "outputs": [
    {
     "name": "stdout",
     "output_type": "stream",
     "text": [
      "Computed Random Prime p.\n",
      "Computed Random Prime q.\n",
      "RSA-128 Initiated Successfully.\n"
     ]
    }
   ],
   "source": [
    "rsa256 = RSA(128)"
   ]
  },
  {
   "cell_type": "code",
   "execution_count": 5,
   "metadata": {},
   "outputs": [
    {
     "name": "stdout",
     "output_type": "stream",
     "text": [
      "Initial Message:  279 \n",
      "\n",
      "Encrypted Message:  43356737391121762645629743442208744398871977148367364650521060544149888140669 \n",
      "\n",
      "Decrypted Message:  279 \n",
      "\n"
     ]
    }
   ],
   "source": [
    "m1 = random.randrange(1024)\n",
    "c1 = rsa256.Encrypt(m1, padding=True)\n",
    "mm1 = rsa256.Decrypt(c1, padding=True)\n",
    "\n",
    "print ('Initial Message: ', m1, '\\n')\n",
    "print ('Encrypted Message: ', c1, '\\n')\n",
    "print ('Decrypted Message: ', mm1, '\\n')"
   ]
  },
  {
   "cell_type": "code",
   "execution_count": 6,
   "metadata": {},
   "outputs": [
    {
     "name": "stdout",
     "output_type": "stream",
     "text": [
      "Initial Message:  765 \n",
      "\n",
      "Encrypted Message:  1224470163388410177486002298728049660032562552903625763337074118391219937735 \n",
      "\n",
      "Decrypted Message:  765 \n",
      "\n",
      "\n"
     ]
    }
   ],
   "source": [
    "m2 = random.randrange(1024)\n",
    "c2 = rsa256.Encrypt(m2, padding=True)\n",
    "mm2 = rsa256.Decrypt(c2, padding=True)\n",
    "\n",
    "print ('Initial Message: ', m2, '\\n')\n",
    "print ('Encrypted Message: ', c2, '\\n')\n",
    "print ('Decrypted Message: ', mm2, '\\n')\n",
    "\n",
    "# Show Homomorphic Properties\n",
    "c3 = (c1 * c2) % rsa256.n\n",
    "print (rsa256.Decrypt(c3, padding=True))"
   ]
  },
  {
   "cell_type": "code",
   "execution_count": 7,
   "metadata": {},
   "outputs": [
    {
     "data": {
      "text/plain": [
       "60788469777168206489955738712198866966511220273039441480741516390199707763139"
      ]
     },
     "execution_count": 7,
     "metadata": {},
     "output_type": "execute_result"
    }
   ],
   "source": [
    "rsa256.n"
   ]
  },
  {
   "cell_type": "markdown",
   "metadata": {},
   "source": [
    "# Make The PKCS #1 v1.5 Padded Cipher Text"
   ]
  },
  {
   "cell_type": "code",
   "execution_count": 12,
   "metadata": {},
   "outputs": [
    {
     "name": "stdout",
     "output_type": "stream",
     "text": [
      "[Target] CipherText Length:  32\n",
      "\n",
      "Message:  b'\\x01\\x17'\n",
      "\n",
      "Message Length:  2\n",
      "\n",
      "Padding Length:  27\n",
      "\n",
      "Computed Padding:  bytearray(b'\\x05\\r\\x0e\\x03\\x0e\\x0e\\x05\\x07\\x08\\x04\\x0e\\x08\\x0b\\x03\\x06\\n\\x04\\x01\\n\\r\\x0f\\x03\\x0b\\x08\\x0e\\t\\x0f')\n",
      "\n",
      "Computed Padding Length:  27\n",
      "\n",
      "Padded CipherText:  b'\\x00\\x02\\x05\\r\\x0e\\x03\\x0e\\x0e\\x05\\x07\\x08\\x04\\x0e\\x08\\x0b\\x03\\x06\\n\\x04\\x01\\n\\r\\x0f\\x03\\x0b\\x08\\x0e\\t\\x0f\\x00\\x01\\x17'\n",
      "\n",
      "Padded CipherText Length:\n",
      "bytelen(0x0002) + bytelen(PaddingString) + bytelen(0x00) + bytelen(message) =  32\n",
      "\n",
      "Encrypted CipherText:  26127420999957549089656293076923861521958942870915209487015636757192480784695\n"
     ]
    }
   ],
   "source": [
    "EB = math.ceil(rsa256.n.bit_length()/8) # byte-size of Encryption Block (EB)\n",
    "DB = math.ceil(m1.bit_length()/8)       # byte-size of Data Block (DB)\n",
    "PS = EB - 3 - DB                        # byte-size of Padding String (PS)\n",
    "\n",
    "hex_m1 = m1.to_bytes((m1.bit_length() + 7) // 8, byteorder='big')\n",
    "\n",
    "\n",
    "print ('[Target] CipherText Length: ', EB)\n",
    "print ('\\nMessage: ', hex_m1)\n",
    "print ('\\nMessage Length: ', DB)\n",
    "print ('\\nPadding Length: ', PS)\n",
    "\n",
    "if not(DB <= EB - 11):\n",
    "    print('Can\\'t Encrypt This.')\n",
    "    sys.exit(0)\n",
    "else:\n",
    "    PaddingString = GenerateByteSequence2(PS)\n",
    "\n",
    "print ('\\nComputed Padding: ', PaddingString)\n",
    "print ('\\nComputed Padding Length: ', len(PaddingString))\n",
    "cipher_padded = bytes.fromhex('0002') + PaddingString + bytes.fromhex('00') + hex_m1\n",
    "\n",
    "print ('\\nPadded CipherText: ', cipher_padded)\n",
    "print ('\\nPadded CipherText Length:\\nbytelen(0x0002) + bytelen(PaddingString) + bytelen(0x00) + bytelen(message) = ',\\\n",
    "        len(bytes.fromhex('0002')) + len(PaddingString) + len(bytes.fromhex('00')) + len(hex_m1))\n",
    "\n",
    "\n",
    "cipherTextInt = int.from_bytes(cipher_padded, byteorder='big')\n",
    "cipher_encrypted = pow(cipherTextInt, rsa256.e, rsa256.n)\n",
    "\n",
    "print ('\\nEncrypted CipherText: ', cipher_encrypted)"
   ]
  },
  {
   "cell_type": "code",
   "execution_count": 13,
   "metadata": {
    "collapsed": true
   },
   "outputs": [],
   "source": [
    "plain_1 = rsa256.Decrypt(cipher_encrypted)"
   ]
  },
  {
   "cell_type": "code",
   "execution_count": 14,
   "metadata": {},
   "outputs": [
    {
     "name": "stdout",
     "output_type": "stream",
     "text": [
      "True\n",
      "b'\\x00\\x02\\x05\\r\\x0e\\x03\\x0e\\x0e\\x05\\x07\\x08\\x04\\x0e\\x08\\x0b\\x03\\x06\\n\\x04\\x01\\n\\r\\x0f\\x03\\x0b\\x08\\x0e\\t\\x0f\\x00\\x01\\x17'\n",
      "279\n"
     ]
    }
   ],
   "source": [
    "# print (EB)\n",
    "# print (math.ceil(plain.bit_length()/8))\n",
    "# print ('0x%0*x' % (len(hex(rsa256.n)[2:]), plain))\n",
    "print(plain_1 == int(plain_1))\n",
    "hex_cipher = int(plain_1).to_bytes((rsa256.n.bit_length() + 7) // 8, byteorder='big')\n",
    "\n",
    "print(hex_cipher)\n",
    "# print(type(hex_cipher))\n",
    "# if (len(hex(plain_1)) < len(hex(rsa256.n))):\n",
    "#     tmp4 = padhexa(hex(plain_1), len(hex(plain_1)[2:]) + 3)\n",
    "if (hex_cipher[0:2] == b'\\x00\\x02'):\n",
    "    print(int.from_bytes(hex_cipher.split(bytearray(1))[-1], byteorder='big'))\n",
    "else: \n",
    "    print ('Wrong Padding')"
   ]
  },
  {
   "cell_type": "code",
   "execution_count": 18,
   "metadata": {},
   "outputs": [
    {
     "name": "stdout",
     "output_type": "stream",
     "text": [
      "[Target] CipherText Length:  64\n",
      "\n",
      "Message:  0x362\n",
      "\n",
      "Message Length:  2\n",
      "\n",
      "Padding Length:  59\n",
      "\n",
      "Computed Padding:  F43ABD4AF53B4DCFB8B3174BB49A5DEA25944B72A519F2D4A3E7AAEADFE7D2E8D7A117DD9B3CB7FA535CAFD8BE8644915FDF64511A9ED5AC1156D9\n",
      "\n",
      "Computed Padding Length:  59\n",
      "\n",
      "Padded CipherText:  0x0002F43ABD4AF53B4DCFB8B3174BB49A5DEA25944B72A519F2D4A3E7AAEADFE7D2E8D7A117DD9B3CB7FA535CAFD8BE8644915FDF64511A9ED5AC1156D900362\n",
      "\n",
      "Padded CipherText Length:\n",
      "bytelen(0x0002) (=2) + bytelen(PaddingString) (=60) + bytelen(0x00) (=1) + bytelen(message) (=1) =  64\n",
      "\n",
      "Encrypted CipherText:  3102166782669551284215508552002243022823180267192622323751686012530241182121001869866637565342253514507997659482150754413987442387103710304740646821677168\n"
     ]
    }
   ],
   "source": [
    "EB = math.ceil(rsa256.n.bit_length()/8) # byte-size of Encryption Block (EB)\n",
    "DB = math.ceil(m2.bit_length()/8)       # byte-size of Data Block (DB)\n",
    "PS = EB - 3 - DB                        # byte-size of Padding String (PS)\n",
    "\n",
    "print ('[Target] CipherText Length: ', EB)\n",
    "print ('\\nMessage: ', hex(m2))\n",
    "print ('\\nMessage Length: ', DB)\n",
    "print ('\\nPadding Length: ', PS)\n",
    "\n",
    "\n",
    "if not(DB <= EB - 11):\n",
    "    print('Can\\'t Encrypt This.')\n",
    "    sys.exit(0)\n",
    "else:\n",
    "    PaddingString = GenerateByteSequence(PS)\n",
    "\n",
    "print ('\\nComputed Padding: ', PaddingString)\n",
    "print ('\\nComputed Padding Length: ', math.ceil(len(bin(int(PaddingString, 16))[2:])/8))\n",
    "\n",
    "cipher_padded = '0x0002'+PaddingString+'00'+hex(m2)[2:]\n",
    "\n",
    "print ('\\nPadded CipherText: ', cipher_padded)\n",
    "print ('\\nPadded CipherText Length:\\nbytelen(0x0002) (=2) + bytelen(PaddingString) (=60) + bytelen(0x00) (=1) + bytelen(message) (=1) = ',\\\n",
    "       2 + math.ceil(len(bin(int(PaddingString, 16))[2:])/8) + 1 + math.ceil(len(bin(m2)[2:])/8))\n",
    "\n",
    "\n",
    "cipher_encrypted_2 = pow(int(cipher_padded,16), rsa256.e, rsa256.n)\n",
    "print ('\\nEncrypted CipherText: ', cipher_encrypted_2)"
   ]
  },
  {
   "cell_type": "code",
   "execution_count": 19,
   "metadata": {
    "collapsed": true
   },
   "outputs": [],
   "source": [
    "plain_2 = rsa256.Decrypt(cipher_encrypted_2)"
   ]
  },
  {
   "cell_type": "code",
   "execution_count": 21,
   "metadata": {},
   "outputs": [
    {
     "data": {
      "text/plain": [
       "'0x2f43abd4af53b4dcfb8b3174bb49a5dea25944b72a519f2d4a3e7aaeadfe7d2e8d7a117dd9b3cb7fa535cafd8be8644915fdf64511a9ed5ac1156d900362'"
      ]
     },
     "execution_count": 21,
     "metadata": {},
     "output_type": "execute_result"
    }
   ],
   "source": [
    "hex(plain_2)"
   ]
  },
  {
   "cell_type": "code",
   "execution_count": 45,
   "metadata": {},
   "outputs": [
    {
     "name": "stdout",
     "output_type": "stream",
     "text": [
      "126\n",
      "130\n",
      "0002\n"
     ]
    },
    {
     "data": {
      "text/plain": [
       "866"
      ]
     },
     "execution_count": 45,
     "metadata": {},
     "output_type": "execute_result"
    }
   ],
   "source": [
    "print(len(hex(plain_2)))\n",
    "print(len(hex(rsa256.n)))\n",
    "\n",
    "\n",
    "if (abs(len(hex(rsa256.n)) - len(hex(plain_2))) >= 3):\n",
    "    tmp4 = padhexa(hex(plain_2), len(hex(plain_2)[2:]) + 3)\n",
    "\n",
    "    \n",
    "print(tmp4[2:6])\n",
    "    \n",
    "int(tmp4.split('00')[-1], 16)"
   ]
  },
  {
   "cell_type": "code",
   "execution_count": null,
   "metadata": {
    "collapsed": true
   },
   "outputs": [],
   "source": []
  },
  {
   "cell_type": "code",
   "execution_count": null,
   "metadata": {
    "collapsed": true
   },
   "outputs": [],
   "source": []
  },
  {
   "cell_type": "code",
   "execution_count": null,
   "metadata": {
    "collapsed": true
   },
   "outputs": [],
   "source": []
  },
  {
   "cell_type": "code",
   "execution_count": null,
   "metadata": {
    "collapsed": true
   },
   "outputs": [],
   "source": []
  },
  {
   "cell_type": "code",
   "execution_count": 9,
   "metadata": {
    "collapsed": true
   },
   "outputs": [],
   "source": [
    "def padhexa(s, l):\n",
    "    return '0x' + s[2:].zfill(l)"
   ]
  },
  {
   "cell_type": "code",
   "execution_count": 10,
   "metadata": {
    "collapsed": true
   },
   "outputs": [],
   "source": [
    "def GenerateByteSequence(byte_length):\n",
    "    hex_arr = list(map(str,\\\n",
    "                   list(range(1, 10)) + ['A', 'B', 'C', 'D', 'E', 'F']))\n",
    "    \n",
    "    secure_random = random.SystemRandom()\n",
    "    tmp = byte_length * 8\n",
    "    res = ''\n",
    "    while (tmp is not 0):\n",
    "        word = secure_random.choice(hex_arr)\n",
    "        size = 4\n",
    "        if (size <= tmp):\n",
    "            tmp -= size\n",
    "            res += word\n",
    "    return res"
   ]
  },
  {
   "cell_type": "code",
   "execution_count": 11,
   "metadata": {
    "collapsed": true
   },
   "outputs": [],
   "source": [
    "def GenerateByteSequence2(byte_length):\n",
    "    byteSeq = bytearray(byte_length)\n",
    "    for byte in range(byte_length):\n",
    "        byteSeq[byte] = random.randint(1, 15)\n",
    "    return byteSeq"
   ]
  }
 ],
 "metadata": {
  "kernelspec": {
   "display_name": "Python [default]",
   "language": "python",
   "name": "python3"
  },
  "language_info": {
   "codemirror_mode": {
    "name": "ipython",
    "version": 3
   },
   "file_extension": ".py",
   "mimetype": "text/x-python",
   "name": "python",
   "nbconvert_exporter": "python",
   "pygments_lexer": "ipython3",
   "version": "3.5.4"
  }
 },
 "nbformat": 4,
 "nbformat_minor": 2
}
