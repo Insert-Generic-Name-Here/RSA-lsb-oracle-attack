{
 "cells": [
  {
   "cell_type": "code",
   "execution_count": 1,
   "metadata": {
    "collapsed": true
   },
   "outputs": [],
   "source": [
    "import random"
   ]
  },
  {
   "cell_type": "code",
   "execution_count": 46,
   "metadata": {
    "collapsed": true
   },
   "outputs": [],
   "source": [
    "class PrimeGen:\n",
    "    def __init__(self):\n",
    "        self.p = None\n",
    "    \n",
    "    # Make 20 Ramdom Tests to determine if the number p is a prime\n",
    "    # According to the below reverse-opposite theorem:\n",
    "    '''\n",
    "        If there is a number *a* __not equal__ to *zero* and a \n",
    "        __prime__ *p* that is __not divided__ by *a* so that:\n",
    "        \n",
    "                a^(p-1) mod p =/= 1 <=> a^p mod p =/= a\n",
    "        \n",
    "        Then the number *p* __is not__ prime.\n",
    "    '''\n",
    "    def __IsPrime(self, p, tests):\n",
    "        cnt = 1\n",
    "        while cnt < tests:\n",
    "            a = random.randrange(1, p)\n",
    "            if pow(a, p, p) == a:\n",
    "                cnt += 1\n",
    "            else:\n",
    "                break\n",
    "        if cnt == tests:\n",
    "            return True\n",
    "        else:\n",
    "            return False       \n",
    "    \n",
    "    # Auxiliary Method for Generating a Prime Number\n",
    "    def __Generate(self, B, tests):\n",
    "        FND = False\n",
    "        while FND == False:\n",
    "            lb = 2**(B - 1)\n",
    "            p = random.randrange(lb, 2 * lb)\n",
    "            FND = self.__IsPrime(p, tests)\n",
    "        return p\n",
    "    \n",
    "    # The Method that Generates a *safe* Prime Number\n",
    "    def Generate(self, B, tests=20):\n",
    "        p = self.__Generate(B - 1, tests)\n",
    "        q = 2 * p + 1\n",
    "        while not self.__IsPrime(q, tests):\n",
    "            p = self.__Generate(B - 1, tests)\n",
    "            q = 2 * p + 1\n",
    "        return q"
   ]
  },
  {
   "cell_type": "code",
   "execution_count": 47,
   "metadata": {},
   "outputs": [
    {
     "name": "stdout",
     "output_type": "stream",
     "text": [
      "Time to generate a prime of 128 bits: 0.241\n",
      "Prime Number Generated: 339724387368398112639458284406316285779\n"
     ]
    }
   ],
   "source": [
    "import time\n",
    "\n",
    "BITS = 128\n",
    "pg = PrimeGen()\n",
    "\n",
    "ts = time.time()\n",
    "p = pg.Generate(BITS)\n",
    "print (\"Time to generate a prime of %d bits: %0.3f\" % (BITS, time.time() - ts))\n",
    "print ('Prime Number Generated: %d' %(p))"
   ]
  }
 ],
 "metadata": {
  "kernelspec": {
   "display_name": "Python [default]",
   "language": "python",
   "name": "python3"
  },
  "language_info": {
   "codemirror_mode": {
    "name": "ipython",
    "version": 3
   },
   "file_extension": ".py",
   "mimetype": "text/x-python",
   "name": "python",
   "nbconvert_exporter": "python",
   "pygments_lexer": "ipython3",
   "version": "3.5.4"
  }
 },
 "nbformat": 4,
 "nbformat_minor": 2
}
