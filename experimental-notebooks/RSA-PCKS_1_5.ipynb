{
 "cells": [
  {
   "cell_type": "code",
   "execution_count": 1,
   "metadata": {
    "collapsed": true
   },
   "outputs": [],
   "source": [
    "import lib.PrimeGen as pg"
   ]
  },
  {
   "cell_type": "code",
   "execution_count": 2,
   "metadata": {
    "collapsed": true
   },
   "outputs": [],
   "source": [
    "import math\n",
    "import gmpy2\n",
    "import random"
   ]
  },
  {
   "cell_type": "code",
   "execution_count": 5,
   "metadata": {},
   "outputs": [],
   "source": [
    "class RSA:\n",
    "    def __init__(self, bits):\n",
    "        pgen = pg.PrimeGen()\n",
    "        p = pgen.Generate(bits) # Generate a *safe prime* with __bits__ BITS.\n",
    "        print ('Computed Random Prime p.')\n",
    "        q = pgen.Generate(bits) # Generate a *safe prime* with __bits__ BITS.\n",
    "        print ('Computed Random Prime q.')\n",
    "        phi = (p-1)*(q-1)       # euler's phi function for n\n",
    "        \n",
    "        self.n = p * q\n",
    "        self.e = 2**16 + 1\n",
    "        self.__d = gmpy2.invert(self.e, phi)\n",
    "        print ('RSA-%d Initiated Successfully.' %(bits))\n",
    "    \n",
    "    def __padhexa(s, l):\n",
    "        return '0x' + s[2:].zfill(l)\n",
    "        \n",
    "    def __GenerateByteSequence(byte_length):\n",
    "        hex_arr = list(map(str,\\\n",
    "                       list(range(1, 10)) + ['A', 'B', 'C', 'D', 'E', 'F']))\n",
    "        secure_random = random.SystemRandom()\n",
    "        tmp = byte_length * 8\n",
    "        res = ''\n",
    "        while (tmp is not 0):\n",
    "            word = secure_random.choice(hex_arr)\n",
    "            size = 4\n",
    "            if (size <= tmp):\n",
    "                tmp -= size\n",
    "                res += word\n",
    "        return res\n",
    "        \n",
    "    def __PadMessage(plainText, n):\n",
    "        EB = math.ceil(n.bit_length()/8) # byte-size of Encryption Block (EB)\n",
    "        DB = math.ceil(plainText.bit_length()/8)       # byte-size of Data Block (DB)\n",
    "        PS = EB - 3 - DB                        # byte-size of Padding String (PS)\n",
    "        if not(DB <= EB - 11):\n",
    "            raise ValueError('Message > Encryption Block - 11.')\n",
    "        else:\n",
    "            PaddingString = GenerateByteSequence(PS)\n",
    "        paddedText = '0x0002'+PaddingString+'00'+hex(plainText)[2:]\n",
    "        return paddedText\n",
    "        \n",
    "    def __PublicKey(self):\n",
    "        return self.e, self.n\n",
    "    \n",
    "    def __PrivateKey(self):\n",
    "        return self.__d, self.n\n",
    "    \n",
    "    def Encrypt(self, plainText, padding=False):\n",
    "        [e, n] = self.__PublicKey()\n",
    "        if padding:\n",
    "            plainTextPadded = self.__PadMessage(plainText, n)\n",
    "            tmp = pow(int(plainTextPadded,16), e, n)\n",
    "        else:\n",
    "            tmp = pow(plainText, e, n)\n",
    "        return tmp\n",
    "    \n",
    "    def Decrypt(self, cipherText, padding=False):\n",
    "        [d, n] = self.__PrivateKey()\n",
    "        \n",
    "        decipherText = pow(cipherText, d, n)\n",
    "        \n",
    "        if padding:\n",
    "            byte_difference = abs(len(hex(rsa256.n)) - len(hex(decipherText)))\n",
    "            if (byte_difference >= 3):\n",
    "                bytelen = len(hex(decipherText)[2:])\n",
    "                decipherText = self.__padhexa(hex(decipherText), bytelen + 3)\n",
    "            \n",
    "            if (decipherText[2:6] == '0002'):\n",
    "                decipherText = int(tmp4.split('00')[-1], 16)\n",
    "            else:\n",
    "                decipherText = ''\n",
    "            \n",
    "        return decipherText"
   ]
  },
  {
   "cell_type": "code",
   "execution_count": 6,
   "metadata": {},
   "outputs": [
    {
     "name": "stdout",
     "output_type": "stream",
     "text": [
      "Computed Random Prime p.\n",
      "Computed Random Prime q.\n",
      "RSA-256 Initiated Successfully.\n"
     ]
    }
   ],
   "source": [
    "rsa256 = RSA(256)"
   ]
  },
  {
   "cell_type": "code",
   "execution_count": 7,
   "metadata": {},
   "outputs": [
    {
     "name": "stdout",
     "output_type": "stream",
     "text": [
      "Initial Message:  393 \n",
      "\n",
      "Encrypted Message:  588210979185370403140197108073432297609208703505031697734029373881391784097146187354103851290372698909011528304103649204876992020255947309114652953490662 \n",
      "\n",
      "Decrypted Message:  393 \n",
      "\n"
     ]
    }
   ],
   "source": [
    "m1 = random.randrange(1024)\n",
    "c1 = rsa256.Encrypt(m1)\n",
    "mm1 = rsa256.Decrypt(c1)\n",
    "\n",
    "print ('Initial Message: ', m1, '\\n')\n",
    "print ('Encrypted Message: ', c1, '\\n')\n",
    "print ('Decrypted Message: ', mm1, '\\n')"
   ]
  },
  {
   "cell_type": "code",
   "execution_count": 8,
   "metadata": {},
   "outputs": [
    {
     "name": "stdout",
     "output_type": "stream",
     "text": [
      "Initial Message:  866 \n",
      "\n",
      "Encrypted Message:  2923963189550801750218817639073003891448694154484835805710699644191382625452354441503008525243708727271222740222639918579285314415282371852255634349732994 \n",
      "\n",
      "Decrypted Message:  866 \n",
      "\n",
      "True\n"
     ]
    }
   ],
   "source": [
    "m2 = random.randrange(1024)\n",
    "c2 = rsa256.Encrypt(m2)\n",
    "mm2 = rsa256.Decrypt(c2)\n",
    "\n",
    "print ('Initial Message: ', m2, '\\n')\n",
    "print ('Encrypted Message: ', c2, '\\n')\n",
    "print ('Decrypted Message: ', mm2, '\\n')\n",
    "\n",
    "# Show Homomorphic Properties\n",
    "print (rsa256.Decrypt(c1 * c2) == (m1 * m2) % rsa256.n)"
   ]
  },
  {
   "cell_type": "code",
   "execution_count": 9,
   "metadata": {},
   "outputs": [
    {
     "data": {
      "text/plain": [
       "4323484774871250219024594876710528792250684426671328209655598649387816479224171030180961975187746377045536518276206716663819655852483296766958848370064749"
      ]
     },
     "execution_count": 9,
     "metadata": {},
     "output_type": "execute_result"
    }
   ],
   "source": [
    "rsa256.n"
   ]
  },
  {
   "cell_type": "markdown",
   "metadata": {},
   "source": [
    "# Make The PKCS #1 v1.5 Padded Cipher Text"
   ]
  },
  {
   "cell_type": "code",
   "execution_count": 14,
   "metadata": {},
   "outputs": [
    {
     "name": "stdout",
     "output_type": "stream",
     "text": [
      "[Target] CipherText Length:  64\n",
      "\n",
      "Message:  0x189\n",
      "\n",
      "Message Length:  2\n",
      "\n",
      "Padding Length:  59\n",
      "\n",
      "Computed Padding:  C4777E73DD49A1DE644A3C66A1BA1D85ACE8615EA1111627BAD54DE3D3268BF71B7DF527191455A6D9AFFC3E389DC638DB21FDCCBFCFB1C12AD7BA\n",
      "\n",
      "Computed Padding Length:  59\n",
      "\n",
      "Padded CipherText:  0x0002C4777E73DD49A1DE644A3C66A1BA1D85ACE8615EA1111627BAD54DE3D3268BF71B7DF527191455A6D9AFFC3E389DC638DB21FDCCBFCFB1C12AD7BA00189\n",
      "\n",
      "Padded CipherText Length:\n",
      "bytelen(0x0002) (=2) + bytelen(PaddingString) (=59) + bytelen(0x00) (=1) + bytelen(message) (=2) =  64\n",
      "\n",
      "Encrypted CipherText:  3892676952579687901993713734381467029478506585601326194897693584381022391076430602507063348142606209242412187253537005359325748221532993980671694669169754\n"
     ]
    }
   ],
   "source": [
    "EB = math.ceil(rsa256.n.bit_length()/8) # byte-size of Encryption Block (EB)\n",
    "DB = math.ceil(m1.bit_length()/8)       # byte-size of Data Block (DB)\n",
    "PS = EB - 3 - DB                        # byte-size of Padding String (PS)\n",
    "\n",
    "print ('[Target] CipherText Length: ', EB)\n",
    "print ('\\nMessage: ', hex(m1))\n",
    "print ('\\nMessage Length: ', DB)\n",
    "print ('\\nPadding Length: ', PS)\n",
    "\n",
    "\n",
    "if not(DB <= EB - 11):\n",
    "    print('Can\\'t Encrypt This.')\n",
    "    sys.exit(0)\n",
    "else:\n",
    "    PaddingString = GenerateByteSequence(PS)\n",
    "\n",
    "print ('\\nComputed Padding: ', PaddingString)\n",
    "print ('\\nComputed Padding Length: ', math.ceil(len(bin(int(PaddingString, 16))[2:])/8))\n",
    "\n",
    "cipher_padded = '0x0002'+PaddingString+'00'+hex(m1)[2:]\n",
    "\n",
    "print ('\\nPadded CipherText: ', cipher_padded)\n",
    "print ('\\nPadded CipherText Length:\\nbytelen(0x0002) (=2) + bytelen(PaddingString) (=59) + bytelen(0x00) (=1) + bytelen(message) (=2) = ',\\\n",
    "       2 + math.ceil(len(bin(int(PaddingString, 16))[2:])/8) + 1 + math.ceil(len(bin(m1)[2:])/8))\n",
    "\n",
    "\n",
    "cipher_encrypted = pow(int(cipher_padded,16), rsa256.e, rsa256.n)\n",
    "print ('\\nEncrypted CipherText: ', cipher_encrypted)"
   ]
  },
  {
   "cell_type": "code",
   "execution_count": 15,
   "metadata": {
    "collapsed": true
   },
   "outputs": [],
   "source": [
    "plain_1 = rsa256.Decrypt(cipher_encrypted)"
   ]
  },
  {
   "cell_type": "code",
   "execution_count": 17,
   "metadata": {},
   "outputs": [
    {
     "data": {
      "text/plain": [
       "393"
      ]
     },
     "execution_count": 17,
     "metadata": {},
     "output_type": "execute_result"
    }
   ],
   "source": [
    "# print (EB)\n",
    "# print (math.ceil(plain.bit_length()/8))\n",
    "# print ('0x%0*x' % (len(hex(rsa256.n)[2:]), plain))\n",
    "\n",
    "if (len(hex(plain_1)) < len(hex(rsa256.n))):\n",
    "    tmp4 = padhexa(hex(plain_1), len(hex(plain_1)[2:]) + 3)\n",
    "\n",
    "int(tmp4.split('00')[2], 16)\n"
   ]
  },
  {
   "cell_type": "code",
   "execution_count": 18,
   "metadata": {},
   "outputs": [
    {
     "name": "stdout",
     "output_type": "stream",
     "text": [
      "[Target] CipherText Length:  64\n",
      "\n",
      "Message:  0x362\n",
      "\n",
      "Message Length:  2\n",
      "\n",
      "Padding Length:  59\n",
      "\n",
      "Computed Padding:  F43ABD4AF53B4DCFB8B3174BB49A5DEA25944B72A519F2D4A3E7AAEADFE7D2E8D7A117DD9B3CB7FA535CAFD8BE8644915FDF64511A9ED5AC1156D9\n",
      "\n",
      "Computed Padding Length:  59\n",
      "\n",
      "Padded CipherText:  0x0002F43ABD4AF53B4DCFB8B3174BB49A5DEA25944B72A519F2D4A3E7AAEADFE7D2E8D7A117DD9B3CB7FA535CAFD8BE8644915FDF64511A9ED5AC1156D900362\n",
      "\n",
      "Padded CipherText Length:\n",
      "bytelen(0x0002) (=2) + bytelen(PaddingString) (=60) + bytelen(0x00) (=1) + bytelen(message) (=1) =  64\n",
      "\n",
      "Encrypted CipherText:  3102166782669551284215508552002243022823180267192622323751686012530241182121001869866637565342253514507997659482150754413987442387103710304740646821677168\n"
     ]
    }
   ],
   "source": [
    "EB = math.ceil(rsa256.n.bit_length()/8) # byte-size of Encryption Block (EB)\n",
    "DB = math.ceil(m2.bit_length()/8)       # byte-size of Data Block (DB)\n",
    "PS = EB - 3 - DB                        # byte-size of Padding String (PS)\n",
    "\n",
    "print ('[Target] CipherText Length: ', EB)\n",
    "print ('\\nMessage: ', hex(m2))\n",
    "print ('\\nMessage Length: ', DB)\n",
    "print ('\\nPadding Length: ', PS)\n",
    "\n",
    "\n",
    "if not(DB <= EB - 11):\n",
    "    print('Can\\'t Encrypt This.')\n",
    "    sys.exit(0)\n",
    "else:\n",
    "    PaddingString = GenerateByteSequence(PS)\n",
    "\n",
    "print ('\\nComputed Padding: ', PaddingString)\n",
    "print ('\\nComputed Padding Length: ', math.ceil(len(bin(int(PaddingString, 16))[2:])/8))\n",
    "\n",
    "cipher_padded = '0x0002'+PaddingString+'00'+hex(m2)[2:]\n",
    "\n",
    "print ('\\nPadded CipherText: ', cipher_padded)\n",
    "print ('\\nPadded CipherText Length:\\nbytelen(0x0002) (=2) + bytelen(PaddingString) (=60) + bytelen(0x00) (=1) + bytelen(message) (=1) = ',\\\n",
    "       2 + math.ceil(len(bin(int(PaddingString, 16))[2:])/8) + 1 + math.ceil(len(bin(m2)[2:])/8))\n",
    "\n",
    "\n",
    "cipher_encrypted_2 = pow(int(cipher_padded,16), rsa256.e, rsa256.n)\n",
    "print ('\\nEncrypted CipherText: ', cipher_encrypted_2)"
   ]
  },
  {
   "cell_type": "code",
   "execution_count": 19,
   "metadata": {
    "collapsed": true
   },
   "outputs": [],
   "source": [
    "plain_2 = rsa256.Decrypt(cipher_encrypted_2)"
   ]
  },
  {
   "cell_type": "code",
   "execution_count": 21,
   "metadata": {},
   "outputs": [
    {
     "data": {
      "text/plain": [
       "'0x2f43abd4af53b4dcfb8b3174bb49a5dea25944b72a519f2d4a3e7aaeadfe7d2e8d7a117dd9b3cb7fa535cafd8be8644915fdf64511a9ed5ac1156d900362'"
      ]
     },
     "execution_count": 21,
     "metadata": {},
     "output_type": "execute_result"
    }
   ],
   "source": [
    "hex(plain_2)"
   ]
  },
  {
   "cell_type": "code",
   "execution_count": 45,
   "metadata": {},
   "outputs": [
    {
     "name": "stdout",
     "output_type": "stream",
     "text": [
      "126\n",
      "130\n",
      "0002\n"
     ]
    },
    {
     "data": {
      "text/plain": [
       "866"
      ]
     },
     "execution_count": 45,
     "metadata": {},
     "output_type": "execute_result"
    }
   ],
   "source": [
    "print(len(hex(plain_2)))\n",
    "print(len(hex(rsa256.n)))\n",
    "\n",
    "\n",
    "if (abs(len(hex(rsa256.n)) - len(hex(plain_2))) >= 3):\n",
    "    tmp4 = padhexa(hex(plain_2), len(hex(plain_2)[2:]) + 3)\n",
    "\n",
    "    \n",
    "print(tmp4[2:6])\n",
    "    \n",
    "int(tmp4.split('00')[-1], 16)"
   ]
  },
  {
   "cell_type": "code",
   "execution_count": null,
   "metadata": {
    "collapsed": true
   },
   "outputs": [],
   "source": []
  },
  {
   "cell_type": "code",
   "execution_count": null,
   "metadata": {
    "collapsed": true
   },
   "outputs": [],
   "source": []
  },
  {
   "cell_type": "code",
   "execution_count": null,
   "metadata": {
    "collapsed": true
   },
   "outputs": [],
   "source": []
  },
  {
   "cell_type": "code",
   "execution_count": null,
   "metadata": {
    "collapsed": true
   },
   "outputs": [],
   "source": []
  },
  {
   "cell_type": "code",
   "execution_count": 12,
   "metadata": {
    "collapsed": true
   },
   "outputs": [],
   "source": [
    "def padhexa(s, l):\n",
    "    return '0x' + s[2:].zfill(l)"
   ]
  },
  {
   "cell_type": "code",
   "execution_count": 11,
   "metadata": {
    "collapsed": true
   },
   "outputs": [],
   "source": [
    "def GenerateByteSequence(byte_length):\n",
    "    hex_arr = list(map(str,\\\n",
    "                   list(range(1, 10)) + ['A', 'B', 'C', 'D', 'E', 'F']))\n",
    "    \n",
    "    secure_random = random.SystemRandom()\n",
    "    tmp = byte_length * 8\n",
    "    res = ''\n",
    "    while (tmp is not 0):\n",
    "        word = secure_random.choice(hex_arr)\n",
    "        size = 4\n",
    "        if (size <= tmp):\n",
    "            tmp -= size\n",
    "            res += word\n",
    "    return res"
   ]
  }
 ],
 "metadata": {
  "kernelspec": {
   "display_name": "Python [default]",
   "language": "python",
   "name": "python3"
  },
  "language_info": {
   "codemirror_mode": {
    "name": "ipython",
    "version": 3
   },
   "file_extension": ".py",
   "mimetype": "text/x-python",
   "name": "python",
   "nbconvert_exporter": "python",
   "pygments_lexer": "ipython3",
   "version": "3.5.4"
  }
 },
 "nbformat": 4,
 "nbformat_minor": 2
}
