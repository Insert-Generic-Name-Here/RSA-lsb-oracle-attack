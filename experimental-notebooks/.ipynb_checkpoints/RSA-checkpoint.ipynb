{
 "cells": [
  {
   "cell_type": "code",
   "execution_count": 4,
   "metadata": {
    "collapsed": true
   },
   "outputs": [],
   "source": [
    "import lib.PrimeGen as pg"
   ]
  },
  {
   "cell_type": "code",
   "execution_count": 5,
   "metadata": {
    "collapsed": true
   },
   "outputs": [],
   "source": [
    "import math\n",
    "import gmpy2\n",
    "import random"
   ]
  },
  {
   "cell_type": "code",
   "execution_count": 6,
   "metadata": {
    "collapsed": true
   },
   "outputs": [],
   "source": [
    "class RSA:\n",
    "    def __init__(self, bits):\n",
    "        pgen = pg.PrimeGen()\n",
    "        p = pgen.Generate(bits) # Generate a *safe prime* with __bits__ BITS.\n",
    "        print ('Computed Random Prime p.')\n",
    "        q = pgen.Generate(bits) # Generate a *safe prime* with __bits__ BITS.\n",
    "        print ('Computed Random Prime q.')\n",
    "        phi = (p-1)*(q-1)       # euler's phi function for n\n",
    "        \n",
    "        self.n = p * q\n",
    "        self.e = 2**16 + 1\n",
    "        self.__d = gmpy2.invert(self.e, phi)\n",
    "        print ('RSA-%d Initiated Successfully.' %(bits))\n",
    "        \n",
    "    def __GenerateByteSequence(byte_length):\n",
    "    hex_arr = list(map(str,\\\n",
    "                   list(range(1, 10)) + ['A', 'B', 'C', 'D', 'E', 'F']))\n",
    "    \n",
    "    secure_random = random.SystemRandom()\n",
    "    tmp = byte_length * 8\n",
    "    res = ''\n",
    "    while (tmp is not 0):\n",
    "        word = secure_random.choice(hex_arr)\n",
    "        if (4 <= tmp):\n",
    "            tmp -= 4\n",
    "            res += word\n",
    "    return res\n",
    "        \n",
    "    def __PublicKey(self):\n",
    "        return self.e, self.n\n",
    "    \n",
    "    def __PrivateKey(self):\n",
    "        return self.__d, self.n\n",
    "    \n",
    "    def Encrypt(self, plainText, padding=False):\n",
    "        [e, n] = self.__PublicKey()\n",
    "        return pow(plainText, e, n)\n",
    "            \n",
    "    def Decrypt(self, cipherText, padding=False):\n",
    "        [d, n] = self.__PrivateKey()\n",
    "        return pow(cipherText, d, n)"
   ]
  },
  {
   "cell_type": "code",
   "execution_count": 7,
   "metadata": {},
   "outputs": [
    {
     "name": "stdout",
     "output_type": "stream",
     "text": [
      "Computed Random Prime p.\n",
      "Computed Random Prime q.\n",
      "RSA-256 Initiated Successfully.\n"
     ]
    }
   ],
   "source": [
    "rsa256 = RSA(256)"
   ]
  },
  {
   "cell_type": "code",
   "execution_count": 8,
   "metadata": {
    "collapsed": true
   },
   "outputs": [],
   "source": [
    "m1 = random.randrange(1024)\n",
    "c1 = rsa256.Encrypt(m1)\n",
    "mm1 = rsa256.Decrypt(c1)"
   ]
  },
  {
   "cell_type": "code",
   "execution_count": 9,
   "metadata": {},
   "outputs": [
    {
     "name": "stdout",
     "output_type": "stream",
     "text": [
      "Initial Message:  732 \n",
      "\n",
      "Encrypted Message:  1612185383089553077433082453769130428875361747859244135149009689847726331353182374277680980452692763374432578215179545050425878649860712759984623807811314 \n",
      "\n",
      "Decrypted Message:  732 \n",
      "\n"
     ]
    }
   ],
   "source": [
    "print ('Initial Message: ', m1, '\\n')\n",
    "print ('Encrypted Message: ', c1, '\\n')\n",
    "print ('Decrypted Message: ', mm1, '\\n')"
   ]
  },
  {
   "cell_type": "code",
   "execution_count": 10,
   "metadata": {},
   "outputs": [
    {
     "name": "stdout",
     "output_type": "stream",
     "text": [
      "Initial Message:  51 \n",
      "\n",
      "Encrypted Message:  5825241775566022992519224048489297820764852680119980899751033954267758075887043017651820357777155054244791310879522500385362058072105830316722092252259750 \n",
      "\n",
      "Decrypted Message:  51 \n",
      "\n",
      "True\n"
     ]
    }
   ],
   "source": [
    "# Show Homomorphic Properties\n",
    "m2 = random.randrange(1024)\n",
    "c2 = rsa256.Encrypt(m2)\n",
    "mm2 = rsa256.Decrypt(c2)\n",
    "\n",
    "print ('Initial Message: ', m2, '\\n')\n",
    "print ('Encrypted Message: ', c2, '\\n')\n",
    "print ('Decrypted Message: ', mm2, '\\n')\n",
    "\n",
    "print (rsa256.Decrypt(c1 * c2) == (m1 * m2) % rsa256.n)"
   ]
  },
  {
   "cell_type": "code",
   "execution_count": 11,
   "metadata": {},
   "outputs": [
    {
     "data": {
      "text/plain": [
       "11101661451847730553848470476222751017920463308454539542940490517712580966369884767364934665877107386065045182508343829017910142083026352889453797951150497"
      ]
     },
     "execution_count": 11,
     "metadata": {},
     "output_type": "execute_result"
    }
   ],
   "source": [
    "rsa256.n"
   ]
  }
 ],
 "metadata": {
  "kernelspec": {
   "display_name": "Python [default]",
   "language": "python",
   "name": "python3"
  },
  "language_info": {
   "codemirror_mode": {
    "name": "ipython",
    "version": 3
   },
   "file_extension": ".py",
   "mimetype": "text/x-python",
   "name": "python",
   "nbconvert_exporter": "python",
   "pygments_lexer": "ipython3",
   "version": "3.5.4"
  }
 },
 "nbformat": 4,
 "nbformat_minor": 2
}
