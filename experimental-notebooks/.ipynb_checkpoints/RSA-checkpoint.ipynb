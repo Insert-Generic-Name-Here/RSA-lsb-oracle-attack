{
 "cells": [
  {
   "cell_type": "code",
   "execution_count": 1,
   "metadata": {
    "collapsed": true
   },
   "outputs": [],
   "source": [
    "import PrimeGen as pg"
   ]
  },
  {
   "cell_type": "code",
   "execution_count": 2,
   "metadata": {},
   "outputs": [],
   "source": [
    "import gmpy2\n",
    "import random"
   ]
  },
  {
   "cell_type": "code",
   "execution_count": 3,
   "metadata": {},
   "outputs": [],
   "source": [
    "class RSA:\n",
    "    def __init__(self, bits):\n",
    "        pgen = pg.PrimeGen()\n",
    "        p = pgen.Generate(bits) # Generate a *safe prime* with __bits__ BITS.\n",
    "        print ('Computed Random Prime p.')\n",
    "        q = pgen.Generate(bits) # Generate a *safe prime* with __bits__ BITS.\n",
    "        print ('Computed Random Prime q.')\n",
    "        phi = (p-1)*(q-1)       # euler's phi function for n\n",
    "        \n",
    "        self.n = p * q\n",
    "        self.e = 2**16 + 1\n",
    "        self.__d = gmpy2.invert(self.e, phi)\n",
    "        print ('RSA-%d Initiated Successfully.' %(bits))\n",
    "        \n",
    "        \n",
    "    def __PublicKey(self):\n",
    "        return self.e, self.n\n",
    "    \n",
    "    def __PrivateKey(self):\n",
    "        return self.__d, self.n\n",
    "    \n",
    "    def Encrypt(self, plainText):\n",
    "        [e, n] = self.__PublicKey()\n",
    "        return pow(plainText, e, n)\n",
    "    \n",
    "    def Decrypt(self, cipherText):\n",
    "        [d, n] = self.__PrivateKey()\n",
    "        return pow(cipherText, d, n)"
   ]
  },
  {
   "cell_type": "code",
   "execution_count": 4,
   "metadata": {},
   "outputs": [
    {
     "name": "stdout",
     "output_type": "stream",
     "text": [
      "Computed Random Prime p.\n",
      "Computed Random Prime q.\n",
      "RSA-256 Initiated Successfully.\n"
     ]
    }
   ],
   "source": [
    "rsa256 = RSA(256)"
   ]
  },
  {
   "cell_type": "code",
   "execution_count": 5,
   "metadata": {},
   "outputs": [],
   "source": [
    "m1 = random.randrange(1024)\n",
    "c1 = rsa256.Encrypt(m1)\n",
    "mm1 = rsa256.Decrypt(c1)"
   ]
  },
  {
   "cell_type": "code",
   "execution_count": 6,
   "metadata": {},
   "outputs": [
    {
     "name": "stdout",
     "output_type": "stream",
     "text": [
      "Initial Message:  437 \n",
      "\n",
      "Encrypted Message:  8031491274628346015155034783204549307539169903159862853344016253528650338259322965974623454937115525422730697342974974362538322344989072226293851178272142 \n",
      "\n",
      "Decrypted Message:  437 \n",
      "\n"
     ]
    }
   ],
   "source": [
    "print ('Initial Message: ', m1, '\\n')\n",
    "print ('Encrypted Message: ', c1, '\\n')\n",
    "print ('Decrypted Message: ', mm1, '\\n')"
   ]
  },
  {
   "cell_type": "code",
   "execution_count": 7,
   "metadata": {},
   "outputs": [
    {
     "name": "stdout",
     "output_type": "stream",
     "text": [
      "Initial Message:  452 \n",
      "\n",
      "Encrypted Message:  7543272649472029266549284111051844657419399978178660187663467594853903060025553920679211685263142166938295461064305090665427329996995284677084307906864589 \n",
      "\n",
      "Decrypted Message:  452 \n",
      "\n",
      "True\n"
     ]
    }
   ],
   "source": [
    "# Show Homomorphic Properties\n",
    "m2 = random.randrange(1024)\n",
    "c2 = rsa256.Encrypt(m2)\n",
    "mm2 = rsa256.Decrypt(c2)\n",
    "\n",
    "print ('Initial Message: ', m2, '\\n')\n",
    "print ('Encrypted Message: ', c2, '\\n')\n",
    "print ('Decrypted Message: ', mm2, '\\n')\n",
    "\n",
    "print (rsa256.Decrypt(c1 * c2) == (m1 * m2) % rsa256.n)"
   ]
  }
 ],
 "metadata": {
  "kernelspec": {
   "display_name": "Python [default]",
   "language": "python",
   "name": "python3"
  },
  "language_info": {
   "codemirror_mode": {
    "name": "ipython",
    "version": 3
   },
   "file_extension": ".py",
   "mimetype": "text/x-python",
   "name": "python",
   "nbconvert_exporter": "python",
   "pygments_lexer": "ipython3",
   "version": "3.5.4"
  }
 },
 "nbformat": 4,
 "nbformat_minor": 2
}
