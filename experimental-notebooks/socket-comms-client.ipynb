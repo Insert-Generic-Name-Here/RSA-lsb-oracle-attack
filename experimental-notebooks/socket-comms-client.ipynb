{
 "cells": [
  {
   "cell_type": "code",
   "execution_count": 1,
   "metadata": {
    "collapsed": true
   },
   "outputs": [],
   "source": [
    "import socket\n",
    "import threading as thread\n",
    "import json\n",
    "import sys"
   ]
  },
  {
   "cell_type": "code",
   "execution_count": 2,
   "metadata": {},
   "outputs": [],
   "source": [
    "import lib.ServerComn as ServComn"
   ]
  },
  {
   "cell_type": "markdown",
   "metadata": {},
   "source": [
    "# Client Side"
   ]
  },
  {
   "cell_type": "code",
   "execution_count": 5,
   "metadata": {},
   "outputs": [],
   "source": [
    "#---------------------------------------------------------------------------------\n",
    "#-----------------------------CONNECT TO SERVER SOCKET----------------------------\n",
    "#---------------------------------------------------------------------------------\n",
    "HOST = \"localhost\"\t\t# Symbolic name meaning all available interfaces\n",
    "PORT = 5000 \t\t\t# Arbitrary non-privileged port\n",
    "\n",
    "sct = socket.socket(socket.AF_INET, socket.SOCK_STREAM)\n",
    "try:\n",
    "\tsct.connect((HOST,PORT))\n",
    "except Exception as e:\n",
    "\tprint (e)\n",
    "\tsys.exit(1)\n",
    "#---------------------------------------------------------------------------------"
   ]
  },
  {
   "cell_type": "code",
   "execution_count": 6,
   "metadata": {},
   "outputs": [
    {
     "name": "stdout",
     "output_type": "stream",
     "text": [
      "[RESPONSE] Server:  [ACK] Public Key Exchange.\n",
      "[RESPONSE] Server:  [ACK] Server Connection.\n",
      "1\n"
     ]
    }
   ],
   "source": [
    "#---------------------------------------------------------------------------------\n",
    "#-------------------------------MAIN SOCKET CODE----------------------------------\n",
    "#---------------------------------------------------------------------------------\n",
    "recv_msg = sct.recv(2048).decode('utf-8')\n",
    "recv_msg = recv_msg.split('|')\n",
    "\n",
    "e = int(json.loads(recv_msg[0])['msg'][0])\n",
    "n = int(json.loads(recv_msg[1])['msg'][0])\n",
    "\n",
    "print (\"[RESPONSE] Server: \", recv_msg[2]) #[ACK] Public Key Exchanged\n",
    "print (\"[RESPONSE] Server: \", recv_msg[3]) #[ACK] Connection Established\n",
    "\n",
    "# Suppose we Stole the Below Message\n",
    "msg_pt = 93279\n",
    "msg_ct = pow(msg_pt, e, n)\n",
    "# Let's Send it to the Oracle to See What it Will Tell us\n",
    "sct.sendall(ServComn.BuildJson(msg_ct).encode('utf-8')+'|'.encode('utf-8'))\n",
    "\n",
    "recv_msg = sct.recv(2048).decode('utf-8')\n",
    "msg_lsb = int(recv_msg.split('|')[0])\n",
    "print (msg_lsb)"
   ]
  },
  {
   "cell_type": "code",
   "execution_count": null,
   "metadata": {
    "collapsed": true
   },
   "outputs": [],
   "source": [
    "print ('\\n')\n",
    "sys.exit(0)"
   ]
  }
 ],
 "metadata": {
  "kernelspec": {
   "display_name": "Python [default]",
   "language": "python",
   "name": "python3"
  },
  "language_info": {
   "codemirror_mode": {
    "name": "ipython",
    "version": 3
   },
   "file_extension": ".py",
   "mimetype": "text/x-python",
   "name": "python",
   "nbconvert_exporter": "python",
   "pygments_lexer": "ipython3",
   "version": "3.5.4"
  }
 },
 "nbformat": 4,
 "nbformat_minor": 2
}
