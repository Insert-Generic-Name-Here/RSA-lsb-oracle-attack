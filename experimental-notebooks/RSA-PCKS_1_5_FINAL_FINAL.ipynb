{
 "cells": [
  {
   "cell_type": "code",
   "execution_count": 1,
   "metadata": {
    "collapsed": true
   },
   "outputs": [],
   "source": [
    "import lib.PrimeGen as pg"
   ]
  },
  {
   "cell_type": "code",
   "execution_count": 2,
   "metadata": {
    "collapsed": true
   },
   "outputs": [],
   "source": [
    "import math\n",
    "import random\n",
    "import lib.Cryptlib2 as Cryptlib2"
   ]
  },
  {
   "cell_type": "code",
   "execution_count": 3,
   "metadata": {},
   "outputs": [
    {
     "name": "stdout",
     "output_type": "stream",
     "text": [
      "Computed Random Prime p.\n",
      "Computed Random Prime q.\n",
      "RSA-256 Initiated Successfully.\n"
     ]
    }
   ],
   "source": [
    "rsa256 = Cryptlib2.RSA(256)"
   ]
  },
  {
   "cell_type": "code",
   "execution_count": 71,
   "metadata": {},
   "outputs": [
    {
     "name": "stdout",
     "output_type": "stream",
     "text": [
      "Initial Message:  93279 \n",
      "\n",
      "Encrypted Message:  324318016737577780729609672495703856833969502493941179404441833652153067371633323503110728644180137495481664309532514666016536545580933621805536963234289 \n",
      "\n",
      "Decrypted Message:  93279 \n",
      "\n",
      "Initial Message:  93279 \n",
      "\n",
      "Encrypted Message:  2525087421812766881395630574140098664566398371026538984207323922046961758321606758807779591400134319862856713353731019837446729922393630152183575374902503 \n",
      "\n",
      "Decrypted Message:  93279 \n",
      "\n"
     ]
    }
   ],
   "source": [
    "m1 = 93279\n",
    "c1 = rsa256.Encrypt(m1, padding=False)\n",
    "mm1 = rsa256.Decrypt(c1, padding=False)\n",
    "\n",
    "print ('Initial Message: ', m1, '\\n')\n",
    "print ('Encrypted Message: ', c1, '\\n')\n",
    "print ('Decrypted Message: ', mm1, '\\n')\n",
    "\n",
    "c1 = rsa256.Encrypt(m1, padding=True)\n",
    "mm1 = rsa256.Decrypt(c1, padding=True)\n",
    "\n",
    "print ('Initial Message: ', m1, '\\n')\n",
    "print ('Encrypted Message: ', c1, '\\n')\n",
    "print ('Decrypted Message: ', mm1, '\\n')"
   ]
  },
  {
   "cell_type": "code",
   "execution_count": 123,
   "metadata": {},
   "outputs": [
    {
     "name": "stdout",
     "output_type": "stream",
     "text": [
      "Initial Message:  45 \n",
      "\n",
      "Encrypted Message:  3085869047445951652766654032750893088324789581036373589746956096304799378958226043414214560302699359353269649277949421766384482089841725759420286479664767 \n",
      "\n",
      "Decrypted Message:  45 \n",
      "\n",
      "Homomoprphic Properties: True\n",
      "\n",
      "\n",
      "Initial Message:  887 \n",
      "\n",
      "Encrypted Message:  82779225444704453822828604738332290017770493469049982146103597909111931623354359027930951792496323798487518550151625935049781056881950314650317316901012 \n",
      "\n",
      "Decrypted Message:  887 \n",
      "\n"
     ]
    },
    {
     "ename": "ValueError",
     "evalue": "PKCS Encryption: Wrong Padding.",
     "output_type": "error",
     "traceback": [
      "\u001b[1;31m---------------------------------------------------------------------------\u001b[0m",
      "\u001b[1;31mValueError\u001b[0m                                Traceback (most recent call last)",
      "\u001b[1;32m<ipython-input-123-689a56a79da3>\u001b[0m in \u001b[0;36m<module>\u001b[1;34m()\u001b[0m\n\u001b[0;32m     22\u001b[0m \u001b[1;31m# Show Homomorphic Properties\u001b[0m\u001b[1;33m\u001b[0m\u001b[1;33m\u001b[0m\u001b[0m\n\u001b[0;32m     23\u001b[0m \u001b[0mc1\u001b[0m \u001b[1;33m=\u001b[0m \u001b[0mrsa256\u001b[0m\u001b[1;33m.\u001b[0m\u001b[0mEncrypt\u001b[0m\u001b[1;33m(\u001b[0m\u001b[0mm1\u001b[0m\u001b[1;33m,\u001b[0m \u001b[0mpadding\u001b[0m\u001b[1;33m=\u001b[0m\u001b[1;32mTrue\u001b[0m\u001b[1;33m)\u001b[0m\u001b[1;33m\u001b[0m\u001b[0m\n\u001b[1;32m---> 24\u001b[1;33m \u001b[0mprint\u001b[0m \u001b[1;33m(\u001b[0m\u001b[1;34m'Homomoprphic Properties:'\u001b[0m\u001b[1;33m,\u001b[0m       \u001b[0mrsa256\u001b[0m\u001b[1;33m.\u001b[0m\u001b[0mDecrypt\u001b[0m\u001b[1;33m(\u001b[0m\u001b[0mc1\u001b[0m \u001b[1;33m*\u001b[0m \u001b[0mc2\u001b[0m\u001b[1;33m,\u001b[0m \u001b[0mpadding\u001b[0m\u001b[1;33m=\u001b[0m\u001b[1;32mTrue\u001b[0m\u001b[1;33m)\u001b[0m \u001b[1;33m==\u001b[0m \u001b[1;33m(\u001b[0m\u001b[0mm1\u001b[0m \u001b[1;33m*\u001b[0m \u001b[0mm2\u001b[0m\u001b[1;33m)\u001b[0m \u001b[1;33m%\u001b[0m \u001b[0mrsa256\u001b[0m\u001b[1;33m.\u001b[0m\u001b[0mn\u001b[0m\u001b[1;33m)\u001b[0m\u001b[1;33m\u001b[0m\u001b[0m\n\u001b[0m\u001b[0;32m     25\u001b[0m \u001b[0mprint\u001b[0m \u001b[1;33m(\u001b[0m\u001b[1;34m'\\n'\u001b[0m\u001b[1;33m)\u001b[0m\u001b[1;33m\u001b[0m\u001b[0m\n",
      "\u001b[1;32m~\\Documents\\Coding\\Python\\cryptography-project-winter-2017\\lib\\Cryptlib2.py\u001b[0m in \u001b[0;36mDecrypt\u001b[1;34m(self, cipherText, padding)\u001b[0m\n\u001b[0;32m     59\u001b[0m                 \u001b[0mdecipherText\u001b[0m \u001b[1;33m=\u001b[0m \u001b[0mint\u001b[0m\u001b[1;33m.\u001b[0m\u001b[0mfrom_bytes\u001b[0m\u001b[1;33m(\u001b[0m\u001b[0mdecipherTextHex\u001b[0m\u001b[1;33m.\u001b[0m\u001b[0msplit\u001b[0m\u001b[1;33m(\u001b[0m\u001b[0mbytearray\u001b[0m\u001b[1;33m(\u001b[0m\u001b[1;36m1\u001b[0m\u001b[1;33m)\u001b[0m\u001b[1;33m)\u001b[0m\u001b[1;33m[\u001b[0m\u001b[1;33m-\u001b[0m\u001b[1;36m1\u001b[0m\u001b[1;33m]\u001b[0m\u001b[1;33m,\u001b[0m \u001b[0mbyteorder\u001b[0m\u001b[1;33m=\u001b[0m\u001b[1;34m'big'\u001b[0m\u001b[1;33m)\u001b[0m\u001b[1;33m\u001b[0m\u001b[0m\n\u001b[0;32m     60\u001b[0m             \u001b[1;32melse\u001b[0m\u001b[1;33m:\u001b[0m\u001b[1;33m\u001b[0m\u001b[0m\n\u001b[1;32m---> 61\u001b[1;33m                 \u001b[1;32mraise\u001b[0m \u001b[0mValueError\u001b[0m\u001b[1;33m(\u001b[0m\u001b[1;34m'PKCS Encryption: Wrong Padding.'\u001b[0m\u001b[1;33m)\u001b[0m\u001b[1;33m\u001b[0m\u001b[0m\n\u001b[0m\u001b[0;32m     62\u001b[0m         \u001b[1;32mreturn\u001b[0m \u001b[0mdecipherText\u001b[0m\u001b[1;33m\u001b[0m\u001b[0m\n",
      "\u001b[1;31mValueError\u001b[0m: PKCS Encryption: Wrong Padding."
     ]
    }
   ],
   "source": [
    "m2 = random.randrange(1024)\n",
    "c2 = rsa256.Encrypt(m2, padding=False)\n",
    "mm2 = rsa256.Decrypt(c2, padding=False)\n",
    "\n",
    "print ('Initial Message: ', m2, '\\n')\n",
    "print ('Encrypted Message: ', c2, '\\n')\n",
    "print ('Decrypted Message: ', mm2, '\\n')\n",
    "\n",
    "# Show Homomorphic Properties\n",
    "c1 = rsa256.Encrypt(m1, padding=False)\n",
    "print ('Homomoprphic Properties:',\\\n",
    "       rsa256.Decrypt(c1 * c2, padding=False) == (m1 * m2) % rsa256.n)\n",
    "print ('\\n')\n",
    "\n",
    "m2 = random.randrange(1024)\n",
    "c2 = rsa256.Encrypt(m2, padding=True)\n",
    "mm2 = rsa256.Decrypt(c2, padding=True)\n",
    "\n",
    "print ('Initial Message: ', m2, '\\n')\n",
    "print ('Encrypted Message: ', c2, '\\n')\n",
    "print ('Decrypted Message: ', mm2, '\\n')\n",
    "\n",
    "# Show Homomorphic Properties\n",
    "c1 = rsa256.Encrypt(m1, padding=True)\n",
    "print ('Homomoprphic Properties:',\\\n",
    "       rsa256.Decrypt(c1 * c2, padding=True) == (m1 * m2) % rsa256.n)\n",
    "print ('\\n')"
   ]
  },
  {
   "cell_type": "code",
   "execution_count": 13,
   "metadata": {},
   "outputs": [
    {
     "data": {
      "text/plain": [
       "4854185583858538596712895997178155630809173445717335202547164475311709775539688908906254052437757862473317724186731140203915143478264496536954949494639929"
      ]
     },
     "execution_count": 13,
     "metadata": {},
     "output_type": "execute_result"
    }
   ],
   "source": [
    "rsa256.n"
   ]
  }
 ],
 "metadata": {
  "kernelspec": {
   "display_name": "Python [default]",
   "language": "python",
   "name": "python3"
  },
  "language_info": {
   "codemirror_mode": {
    "name": "ipython",
    "version": 3
   },
   "file_extension": ".py",
   "mimetype": "text/x-python",
   "name": "python",
   "nbconvert_exporter": "python",
   "pygments_lexer": "ipython3",
   "version": "3.5.4"
  }
 },
 "nbformat": 4,
 "nbformat_minor": 2
}
